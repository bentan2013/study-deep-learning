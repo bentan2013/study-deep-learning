{
 "cells": [
  {
   "cell_type": "code",
   "execution_count": null,
   "metadata": {},
   "outputs": [],
   "source": [
    "from tensorflow import keras\n",
    "from tensorflow.keras import layers\n",
    " \n",
    "cifar = keras.datasets.cifar10\n",
    " \n",
    "(train_image, train_label), (test_image, test_label) = cifar.load_data()\n",
    " \n",
    "train_image.shape, test_image.shape\n",
    " \n",
    "train_label\n",
    " \n",
    "# 归一化处理\n",
    "train_image = train_image/255\n",
    "test_image = test_image/255\n",
    " \n",
    "model = keras.Sequential()\n",
    "model.add(layers.Conv2D(64, (3, 3), activation='relu', input_shape=(32, 32, 3)))\n",
    "model.add(layers.Conv2D(64, (3, 3), activation='relu'))\n",
    "model.add(layers.BatchNormalization())\n",
    "model.add(layers.MaxPooling2D())\n",
    "model.add(layers.Dropout(0.25))\n",
    "model.add(layers.Conv2D(128, (3, 3), activation='relu'))\n",
    "model.add(layers.Conv2D(128, (3, 3), activation='relu'))\n",
    "model.add(layers.BatchNormalization())\n",
    "model.add(layers.MaxPooling2D())\n",
    "model.add(layers.Dropout(0.25))\n",
    "model.add(layers.Conv2D(256, (3, 3), activation='relu'))\n",
    "model.add(layers.Conv2D(256, (1, 1), activation='relu'))\n",
    "model.add(layers.BatchNormalization())\n",
    "model.add(layers.Dropout(0.25))          \n",
    "model.add(layers.GlobalAveragePooling2D())\n",
    "model.add(layers.Dense(128))\n",
    "model.add(layers.BatchNormalization())  \n",
    "model.add(layers.Dropout(0.5))         \n",
    "model.add(layers.Dense(10, activation='softmax'))\n",
    " \n",
    "model.summary()\n",
    " \n",
    "model.compile(optimizer='adam',\n",
    "              loss='sparse_categorical_crossentropy',\n",
    "              metrics=['acc']\n",
    ")\n",
    " \n",
    "history = model.fit(train_image, train_label, epochs=30, batch_size=128)\n",
    " \n",
    "model.evaluate(test_image, test_label)\n",
    " \n",
    "model.evaluate(test_image, test_label)\n",
    " "
   ]
  }
 ],
 "metadata": {
  "kernelspec": {
   "display_name": "Python 3.7.13 ('ds')",
   "language": "python",
   "name": "python3"
  },
  "language_info": {
   "codemirror_mode": {
    "name": "ipython",
    "version": 3
   },
   "file_extension": ".py",
   "mimetype": "text/x-python",
   "name": "python",
   "nbconvert_exporter": "python",
   "pygments_lexer": "ipython3",
   "version": "3.7.13"
  },
  "orig_nbformat": 4,
  "vscode": {
   "interpreter": {
    "hash": "ece81cafb62fe4e7fe52509188d5e9a27004f028cae23fd7cb90357864a6f772"
   }
  }
 },
 "nbformat": 4,
 "nbformat_minor": 2
}
