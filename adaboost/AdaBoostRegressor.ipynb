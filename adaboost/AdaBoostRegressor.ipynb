{
 "cells": [
  {
   "cell_type": "code",
   "execution_count": 1,
   "metadata": {},
   "outputs": [],
   "source": [
    "#导入所需的模块和包\n",
    "import numpy as np\n",
    "import matplotlib.pyplot as plt\n",
    "from sklearn.tree import DecisionTreeRegressor \n",
    "from sklearn.ensemble import AdaBoostRegressor\n",
    "%matplotlib inline"
   ]
  },
  {
   "cell_type": "markdown",
   "metadata": {},
   "source": [
    "### 创建数据集"
   ]
  },
  {
   "cell_type": "code",
   "execution_count": null,
   "metadata": {},
   "outputs": [],
   "source": [
    "#创造数据集\n",
    "rng = np.random.RandomState(1)\n",
    "X = np.linspace(0, 6, 100).reshape(-1,1)\n",
    "y = np.sin(X).ravel() + np.sin(6 * X).ravel() + rng.normal(0, 0.1, X.shape[0])"
   ]
  },
  {
   "cell_type": "markdown",
   "metadata": {},
   "source": [
    "### 训练回归模型"
   ]
  },
  {
   "cell_type": "code",
   "execution_count": null,
   "metadata": {},
   "outputs": [],
   "source": [
    "#训练回归模型\n",
    "DTR = DecisionTreeRegressor(max_depth=4)\n",
    "ABR = AdaBoostRegressor(DecisionTreeRegressor(max_depth=4),n_estimators=300, random_state=rng)\n",
    "DTR.fit(X, y)\n",
    "ABR.fit(X, y)\n"
   ]
  },
  {
   "cell_type": "markdown",
   "metadata": {},
   "source": [
    "### 预测结果"
   ]
  },
  {
   "cell_type": "code",
   "execution_count": null,
   "metadata": {},
   "outputs": [],
   "source": [
    "#预测结果\n",
    "y_1 = DTR.predict(X) \n",
    "y_2 = ABR.predict(X)\n",
    "\n",
    "#绘制可视化图形\n",
    "plt.figure(figsize=(15,6))\n",
    "plt.scatter(X, y, c=\"k\", label=\"training samples\") \n",
    "plt.plot(X, y_1, c=\"orange\", label=\"DTR\", linewidth=2) \n",
    "plt.plot(X, y_2, c=\"g\", label=\"ABR\", linewidth=2) \n",
    "plt.xlabel(\"data\")\n",
    "plt.ylabel(\"target\")\n",
    "plt.title(\"Boosted Decision Tree Regression\", fontsize=15) \n",
    "plt.legend()\n",
    "plt.show()"
   ]
  }
 ],
 "metadata": {
  "interpreter": {
   "hash": "ece81cafb62fe4e7fe52509188d5e9a27004f028cae23fd7cb90357864a6f772"
  },
  "kernelspec": {
   "display_name": "Python 3.7.13 ('ds')",
   "language": "python",
   "name": "python3"
  },
  "language_info": {
   "codemirror_mode": {
    "name": "ipython",
    "version": 3
   },
   "file_extension": ".py",
   "mimetype": "text/x-python",
   "name": "python",
   "nbconvert_exporter": "python",
   "pygments_lexer": "ipython3",
   "version": "3.7.13"
  },
  "orig_nbformat": 4
 },
 "nbformat": 4,
 "nbformat_minor": 2
}
